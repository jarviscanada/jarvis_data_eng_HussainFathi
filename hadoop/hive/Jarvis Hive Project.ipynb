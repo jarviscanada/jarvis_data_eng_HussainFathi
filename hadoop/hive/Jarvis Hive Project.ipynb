﻿{
  "metadata": {
    "name": "Jarvis Hive Project",
    "kernelspec": {
      "language": "scala",
      "name": "spark2-scala"
    },
    "language_info": {
      "codemirror_mode": "text/x-scala",
      "file_extension": ".scala",
      "mimetype": "text/x-scala",
      "name": "scala",
      "pygments_lexer": "scala"
    }
  },
  "nbformat": 4,
  "nbformat_minor": 2,
  "cells": [
    {
      "cell_type": "markdown",
      "metadata": {},
      "source": "# Hussain Fathi\n\n## Jarvis Hive Project Notebook"
    },
    {
      "cell_type": "markdown",
      "metadata": {},
      "source": "### Load Data to HDFS"
    },
    {
      "cell_type": "code",
      "execution_count": 2,
      "metadata": {
        "autoscroll": "auto"
      },
      "outputs": [],
      "source": "%hive\nDROP TABLE IF EXISTS wdi_gs\n"
    },
    {
      "cell_type": "code",
      "execution_count": 3,
      "metadata": {
        "autoscroll": "auto"
      },
      "outputs": [],
      "source": "%hive\nCREATE EXTERNAL TABLE wdi_gs\n(year INTEGER, countryName STRING, countryCode String, indicatorName String, indicatorCode STRING, indicatorValue FLOAT)\nROW FORMAT DELIMITED FIELDS TERMINATED BY \u0027,\u0027 LINES TERMINATED BY \u0027\\n\u0027\nLOCATION \u0027gs://jarvis_data_eng_hussain/datasets/wdi_2016\u0027\nTBLPROPERTIES(\"skip.header.line.count\"\u003d\"1\")"
    },
    {
      "cell_type": "code",
      "execution_count": 4,
      "metadata": {
        "autoscroll": "auto"
      },
      "outputs": [],
      "source": "%hive\nDESCRIBE FORMATTED wdi_gs"
    },
    {
      "cell_type": "code",
      "execution_count": 5,
      "metadata": {
        "autoscroll": "auto"
      },
      "outputs": [],
      "source": "%hive\nSELECT count(countryName) as count FROM wdi_gs"
    },
    {
      "cell_type": "code",
      "execution_count": 6,
      "metadata": {
        "autoscroll": "auto"
      },
      "outputs": [],
      "source": "%hive\nDROP TABLE IF EXISTS wdi_csv_text"
    },
    {
      "cell_type": "code",
      "execution_count": 7,
      "metadata": {
        "autoscroll": "auto"
      },
      "outputs": [],
      "source": "%hive\nCREATE EXTERNAL TABLE wdi_csv_text\n(year INTEGER, countryName STRING, countryCode String, indicatorName String, indicatorCode STRING, indicatorValue FLOAT)\nROW FORMAT DELIMITED FIELDS TERMINATED BY \u0027,\u0027 LINES TERMINATED BY \u0027\\n\u0027\nLOCATION \u0027hdfs:///user/hussain/hive/wdi/wdi_csv_text\u0027\nTBLPROPERTIES(\"skip.header.line.count\"\u003d\"1\")"
    },
    {
      "cell_type": "code",
      "execution_count": 8,
      "metadata": {
        "autoscroll": "auto"
      },
      "outputs": [],
      "source": "%sh\nhdfs dfs -ls hdfs:///user/hussain/hive/wdi/wdi_csv_text"
    },
    {
      "cell_type": "code",
      "execution_count": 9,
      "metadata": {
        "autoscroll": "auto"
      },
      "outputs": [],
      "source": "%hive\nINSERT OVERWRITE TABLE wdi_csv_text\nSELECT * FROM wdi_gs"
    },
    {
      "cell_type": "code",
      "execution_count": 10,
      "metadata": {
        "autoscroll": "auto"
      },
      "outputs": [],
      "source": "%sh\nhdfs dfs -du -s -h /user/hussain/hive/wdi/wdi_csv_text"
    },
    {
      "cell_type": "code",
      "execution_count": 11,
      "metadata": {
        "autoscroll": "auto"
      },
      "outputs": [],
      "source": "%hive\nSELECT count(countryName) FROM wdi_csv_text\n"
    },
    {
      "cell_type": "markdown",
      "metadata": {},
      "source": "When clearning the maste and worker nodes caches, the execution of the count query took 19.83 seconds.\nOn the subsequent run, it took 14.83 seconds to run the query. This is because the filesystem cache holds data that was recently read from the disk, making it possible for \nthe subsequent request to obtain the data from the cache instead of having to read it again from disk\n"
    },
    {
      "cell_type": "code",
      "execution_count": 13,
      "metadata": {
        "autoscroll": "auto"
      },
      "outputs": [],
      "source": "%sh\n\n#SSH to master node\ncd ~\nhdfs dfs -get hdfs:///user/hussain/hive/wdi/wdi_csv_text .\ncd wdi_csv_text\n\n#calculate current directory size\ndu -ch .\n\n#clear fs cache\necho 3 | sudo tee /proc/sys/vm/drop_caches\n\n#bash row count\ndate +%s \u0026\u0026 cat * | wc \u0026\u0026 date +%s\n\n"
    },
    {
      "cell_type": "markdown",
      "metadata": {},
      "source": "#### Hive vs Bash\nCounting the number of rows using a Bash script took around 17 seconds which is faster compared to the Hive query which took around 20 seconds. This is due to the time \nrequired by Hive to setup the worker nodes and allocate the jobs into those worker nodes. On the contrary, through the use of a Bash script, the extra work is not required\n"
    },
    {
      "cell_type": "markdown",
      "metadata": {},
      "source": "### Parsin Issue"
    },
    {
      "cell_type": "code",
      "execution_count": 16,
      "metadata": {
        "autoscroll": "auto"
      },
      "outputs": [],
      "source": "%hive\nSELECT distinct(indicatorcode)\nFROM wdi_csv_text\nORDER BY indicatorcode\nLIMIT 20;"
    },
    {
      "cell_type": "markdown",
      "metadata": {},
      "source": "In this case separating using a comma can produce unexpected results as can be seen from the output data.\n"
    },
    {
      "cell_type": "code",
      "execution_count": 18,
      "metadata": {
        "autoscroll": "auto"
      },
      "outputs": [],
      "source": "%hive\nDROP TABLE IF EXISTS wdi_gs_debug\n"
    },
    {
      "cell_type": "code",
      "execution_count": 19,
      "metadata": {
        "autoscroll": "auto"
      },
      "outputs": [],
      "source": "%hive\nCREATE EXTERNAL TABLE wdi_gs_debug\n(line STRING)\nLOCATION \u0027gs://jarvis_data_eng_hussain/datasets/wdi_2016\u0027"
    },
    {
      "cell_type": "code",
      "execution_count": 20,
      "metadata": {
        "autoscroll": "auto"
      },
      "outputs": [],
      "source": "%hive\nSELECT DISTINCT(line) FROM wdi_gs_debug\nWHERE line like \"%\\(\\% of urban population\\)\\\"%\""
    },
    {
      "cell_type": "markdown",
      "metadata": {},
      "source": "### Table with OpenCSV SerDe\n"
    },
    {
      "cell_type": "code",
      "execution_count": 22,
      "metadata": {
        "autoscroll": "auto"
      },
      "outputs": [],
      "source": "%hive\nDROP TABLE IF EXISTS wdi_opencsv_gs"
    },
    {
      "cell_type": "code",
      "execution_count": 23,
      "metadata": {
        "autoscroll": "auto"
      },
      "outputs": [],
      "source": "%hive\nCREATE EXTERNAL TABLE wdi_opencsv_gs\n(year INTEGER, countryName STRING, countryCode String, indicatorName String, indicatorCode STRING, indicatorValue FLOAT)\nROW FORMAT SERDE \u0027org.apache.hadoop.hive.serde2.OpenCSVSerde\u0027\nLOCATION \u0027gs://jarvis_data_eng_hussain/datasets/wdi_2016\u0027"
    },
    {
      "cell_type": "code",
      "execution_count": 24,
      "metadata": {
        "autoscroll": "auto"
      },
      "outputs": [],
      "source": "%hive\nDROP TABLE IF EXISTS wdi_opencsv_text"
    },
    {
      "cell_type": "code",
      "execution_count": 25,
      "metadata": {
        "autoscroll": "auto"
      },
      "outputs": [],
      "source": "%hive\nCREATE EXTERNAL TABLE wdi_opencsv_text\n(year INTEGER, countryName STRING, countryCode String, indicatorName String, indicatorCode STRING, indicatorValue FLOAT)\nROW FORMAT SERDE \u0027org.apache.hadoop.hive.serde2.OpenCSVSerde\u0027\nLOCATION \u0027hdfs:///user/hussain/hive/wdi/wdi_opencsv_text\u0027"
    },
    {
      "cell_type": "code",
      "execution_count": 26,
      "metadata": {
        "autoscroll": "auto"
      },
      "outputs": [],
      "source": "%hive\nINSERT OVERWRITE TABLE wdi_opencsv_text\nSELECT * FROM wdi_opencsv_gs"
    },
    {
      "cell_type": "code",
      "execution_count": 27,
      "metadata": {
        "autoscroll": "auto"
      },
      "outputs": [],
      "source": "%hive\nSELECT distinct(indicatorCode)\nFROM wdi_opencsv_text\nORDER BY indicatorCode"
    },
    {
      "cell_type": "markdown",
      "metadata": {},
      "source": "#### Open CSV SerDe Limitation\nOne of the limitations associated with this approach is that Serde treats all the data in the columns as Strings. To Solve  this issue we need to create a view over the table that does the CAST to the desired type\n"
    },
    {
      "cell_type": "code",
      "execution_count": 29,
      "metadata": {
        "autoscroll": "auto"
      },
      "outputs": [],
      "source": "%hive\nDESCRIBE FORMATTED wdi_opencsv_text\n"
    },
    {
      "cell_type": "code",
      "execution_count": 30,
      "metadata": {
        "autoscroll": "auto"
      },
      "outputs": [],
      "source": "%hive\nDROP VIEW IF EXISTS wdi_opencsv_text_view"
    },
    {
      "cell_type": "code",
      "execution_count": 31,
      "metadata": {
        "autoscroll": "auto"
      },
      "outputs": [],
      "source": "%hive\nCREATE VIEW wdi_opencsv_text_view\nAS\nSELECT year, countryName, countryCode, indicatorName, indicatorCode, CAST(indicatorValue AS FLOAT)\nFROM wdi_opencsv_text"
    },
    {
      "cell_type": "code",
      "execution_count": 32,
      "metadata": {
        "autoscroll": "auto"
      },
      "outputs": [],
      "source": "%hive\nDESCRIBE FORMATTED wdi_opencsv_text_view"
    },
    {
      "cell_type": "markdown",
      "metadata": {},
      "source": "### 2015 Canada GDP Growth HQL \n"
    },
    {
      "cell_type": "code",
      "execution_count": 34,
      "metadata": {
        "autoscroll": "auto"
      },
      "outputs": [],
      "source": "%hive\nSELECT indicatorValue AS GDP_growth_value, year, countryName\nFROM wdi_opencsv_text_view\nWHERE indicatorName LIKE \"%GDP growth%\" AND year \u003d 2015 AND countryName \u003d \"Canada\"\n"
    },
    {
      "cell_type": "markdown",
      "metadata": {},
      "source": "The runtime of this approach took 84.21 seconds which is very slow. This is because the query searches through every line in the data, thus having a time complexity of O(n). \nTo optimize the performace partitioning and bucketing needs to be employed.\n"
    },
    {
      "cell_type": "markdown",
      "metadata": {},
      "source": "### Hive Partitions"
    },
    {
      "cell_type": "code",
      "execution_count": 37,
      "metadata": {
        "autoscroll": "auto"
      },
      "outputs": [],
      "source": "%hive\nDROP TABLE IF EXISTS wdi_opencsv_text_partitions\n"
    },
    {
      "cell_type": "code",
      "execution_count": 38,
      "metadata": {
        "autoscroll": "auto"
      },
      "outputs": [],
      "source": "%hive\nCREATE EXTERNAL TABLE IF NOT EXISTS wdi_opencsv_text_partitions\n(CountryName STRING, countryCode STRING, indicatorName STRING, indicatorCode STRING, indicatorValue FLOAT)\nPARTITIONED BY (year INTEGER)\nROW FORMAT SERDE \u0027org.apache.hadoop.hive.serde2.OpenCSVSerde\u0027\nLOCATION \u0027hdfs:///user/hussain/hive/wdi/wdi_opencsv_text_partitions/\u0027"
    },
    {
      "cell_type": "code",
      "execution_count": 39,
      "metadata": {
        "autoscroll": "auto"
      },
      "outputs": [],
      "source": "%hive\nSET hive.exec.dynamic.partition.mode\u003dnonstrict;\n\nFROM wdi_opencsv_text\nINSERT OVERWRITE TABLE wdi_opencsv_text_partitions \nPARTITION (year)\nSELECT countryName, countryCode, indicatorName, indicatorCode, indicatorValue, year\n"
    },
    {
      "cell_type": "code",
      "execution_count": 40,
      "metadata": {
        "autoscroll": "auto"
      },
      "outputs": [],
      "source": "%hive\nSELECT indicatorValue AS GDP_growth_value, year, countryName\nFROM wdi_opencsv_text_partitions\nWHERE indicatorName LIKE \"%GDP growth%\" AND year \u003d 2015 AND countryName \u003d \"Canada\"\n"
    },
    {
      "cell_type": "markdown",
      "metadata": {},
      "source": "### Columnar File Optimization\n"
    },
    {
      "cell_type": "code",
      "execution_count": 42,
      "metadata": {
        "autoscroll": "auto"
      },
      "outputs": [],
      "source": "%hive\nDROP TABLE IF EXISTS wdi_csv_parquet\n"
    },
    {
      "cell_type": "code",
      "execution_count": 43,
      "metadata": {
        "autoscroll": "auto"
      },
      "outputs": [],
      "source": "%hive\nCREATE EXTERNAL TABLE wdi_csv_parquet\n(year INTEGER, CountryName STRING, countryCode STRING, indicatorName STRING, indicatorCode STRING, indicatorValue FLOAT)\nSTORED AS PARQUET\nLOCATION \u0027hdfs:///user/hussain/hive/wdi/wdi_csv_parquet\u0027 \n\n"
    },
    {
      "cell_type": "code",
      "execution_count": 44,
      "metadata": {
        "autoscroll": "auto"
      },
      "outputs": [],
      "source": "%hive\nINSERT OVERWRITE TABLE wdi_csv_parquet\nSELECT * FROM wdi_opencsv_gs"
    },
    {
      "cell_type": "code",
      "execution_count": 45,
      "metadata": {
        "autoscroll": "auto"
      },
      "outputs": [],
      "source": "%sh\nhdfs dfs -du -h /user/hussain/hive/wdi/wdi_csv_parquet\nhdfs dfs -du -h /user/hussain/hive/wdi/wdi_opencsv_text\n"
    },
    {
      "cell_type": "code",
      "execution_count": 46,
      "metadata": {
        "autoscroll": "auto"
      },
      "outputs": [],
      "source": "%hive\nSELECT COUNT(countryName)\nFROM wdi_csv_parquet\n"
    },
    {
      "cell_type": "code",
      "execution_count": 47,
      "metadata": {
        "autoscroll": "auto"
      },
      "outputs": [],
      "source": "%hive\nSELECT COUNT(countryName)\nFROM wdi_opencsv_text"
    },
    {
      "cell_type": "code",
      "execution_count": 48,
      "metadata": {
        "autoscroll": "auto"
      },
      "outputs": [],
      "source": "%hive\nSELECT indicatorValue AS GDP_growth_value, year, countryName\nFROM wdi_csv_parquet\nWHERE indicatorName LIKE \"%GDP growth%\" AND year \u003d 2015 AND countryName \u003d \"Canada\""
    },
    {
      "cell_type": "code",
      "execution_count": 49,
      "metadata": {
        "autoscroll": "auto"
      },
      "outputs": [],
      "source": "%hive\nSELECT indicatorValue AS GDP_growth_value, year, countryName\nFROM wdi_opencsv_text\nWHERE indicatorName LIKE \"%GDP growth%\" AND year \u003d 2015 AND countryName \u003d \"Canada\""
    },
    {
      "cell_type": "markdown",
      "metadata": {},
      "source": "Using the Columnar file format alowed us to reduce the table size by almost 20 times when compared to using the OpenCSVSerDe.\n\nIn addition to reducing the table size, runtime was also reduced by about 4 times. This is because the data is clustered by column, allowing queries to run faster by skipping unwanted columns.\n"
    },
    {
      "cell_type": "markdown",
      "metadata": {},
      "source": "### Highest GDP Growth"
    },
    {
      "cell_type": "code",
      "execution_count": 52,
      "metadata": {
        "autoscroll": "auto"
      },
      "outputs": [],
      "source": "%hive\nSELECT distinct t1.indicatorValue AS GDP_growth_value, t1.year, t1.countryName\nFROM wdi_csv_parquet t1\nINNER JOIN (\n    SELECT max(indicatorValue) AS GDP_growth_value, countryName\n    FROM wdi_csv_parquet\n    WHERE indicatorCode \u003d \u0027NY.GDP.MKTP.KD.ZG\u0027\n    GROUP BY countryName\n) t2\nON t1.indicatorValue \u003d t2.GDP_growth_value AND t1.countryName \u003d t2.countryName\nORDER BY GDP_growth_value DESC"
    },
    {
      "cell_type": "code",
      "execution_count": 53,
      "metadata": {
        "autoscroll": "auto"
      },
      "outputs": [],
      "source": "%spark.sql\nSELECT distinct t1.indicatorValue AS GDP_growth_value, t1.year, t1.countryName\nFROM wdi_csv_parquet t1\nINNER JOIN (\n    SELECT max(indicatorValue) AS GDP_growth_value, countryName\n    FROM wdi_csv_parquet\n    WHERE indicatorCode \u003d \u0027NY.GDP.MKTP.KD.ZG\u0027\n    GROUP BY countryName\n) t2\nON t1.indicatorValue \u003d t2.GDP_growth_value AND t1.countryName \u003d t2.countryName\nORDER BY GDP_growth_value DESC"
    },
    {
      "cell_type": "markdown",
      "metadata": {},
      "source": "The Hive query took 1 minute and 33 seconds to execute\nThe Spark query took 54 seconds to execute\n"
    },
    {
      "cell_type": "markdown",
      "metadata": {},
      "source": "### Sort GDP by Country and Year"
    },
    {
      "cell_type": "code",
      "execution_count": 56,
      "metadata": {
        "autoscroll": "auto"
      },
      "outputs": [],
      "source": "%hive\nSELECT countryName, year, indicatorCode, indicatorValue\nFROM wdi_csv_parquet\nWHERE indicatorCode \u003d \u0027NY.GDP.MKTP.KD.ZG\u0027\nSORT BY countryName, year\n"
    }
  ]
}